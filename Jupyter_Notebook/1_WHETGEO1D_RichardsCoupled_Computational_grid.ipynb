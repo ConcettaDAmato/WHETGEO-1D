{
 "cells": [
  {
   "cell_type": "markdown",
   "metadata": {},
   "source": [
    "# _**Create the grid for WHETGEO 1D Richards coupled with shallow water**_\n",
    "    -Author: Niccolò Tubini and Riccardo Rigon\n",
    "    -License: this work is licensed under a Creative Commons Attribution-NonCommercial 4.0 International License\n",
    "-----\n",
    "This code allows to create a mesh for 1D PDE problem:\n",
    "    - domain discretization\n",
    "    - setting parameters\n",
    "    - setting initial condition\n",
    "    \n",
    "All output data are stored in a NetCDF file.\n",
    "This file is one of the input file of your simulation.\n"
   ]
  },
  {
   "cell_type": "code",
   "execution_count": null,
   "metadata": {},
   "outputs": [],
   "source": [
    "%load_ext autoreload\n",
    "%autoreload 2\n",
    "import os\n",
    "import pandas as pd\n",
    "from WHETGEO1D_GridCreator import*\n",
    "from WHETGEO1D_toNetCDF import*\n",
    "import warnings\n",
    "warnings.filterwarnings('ignore')\n",
    "\n",
    "####### Plot settings #######\n",
    "nice_fonts = {\n",
    "        \"legend.frameon\": True,\n",
    "        \"legend.fancybox\": True,\n",
    "        \"legend.facecolor\": \"white\",\n",
    "        \"axes.edgecolor\": \"0.8\",\n",
    "        \"axes.linewidth\": 0.6,\n",
    "        \"grid.linewidth\":0.3,\n",
    "        # Use LaTeX to write all text\n",
    "        \"text.usetex\": False,\n",
    "        \"font.family\": \"serif\",\n",
    "        # Use 10pt font in plots, to match 10pt font in document\n",
    "        \"axes.labelsize\": 16,\n",
    "        \"font.size\": 16,\n",
    "        # Make the legend/label fonts a little smaller\n",
    "        \"legend.fontsize\": 12,\n",
    "        \"xtick.labelsize\": 12,\n",
    "        \"ytick.labelsize\": 12,\n",
    "}\n",
    "plt.rcParams.update(nice_fonts)\n",
    "project_path = os.path.dirname(os.getcwd())"
   ]
  },
  {
   "cell_type": "markdown",
   "metadata": {
    "tags": []
   },
   "source": [
    "\n",
    "## Define input:\n",
    "**grid_input_file_name**: name of the grid input file (.csv) with the local file path \n",
    "   \n",
    "> `/data/Grid_input/name.csv`\n",
    "\n",
    "**ic_input_file_name**: name of the initial condition input file (.csv) with the local file path \n",
    "> `/data/Grid_input/name.csv`\n",
    "\n",
    "**parameter_input_file_name**: name of the parameter input file (.csv) with the local file path \n",
    ">`/data/Grid_input/name.csv`\n",
    "\n",
    "**dictionary_input_file_name**: name of the file (.csv) containing the dictionary for parameters name \n",
    ">`/data/Grid_input/name.csv`\n",
    "\n",
    "**grid_type**: string defining how to discretize the 1D domain. You can choose among:\n",
    "> `classical`\n",
    "\n",
    "> `exponential`\n",
    "\n",
    "> `mixed` \n",
    "\n",
    "\n",
    "**dz_min**: thickness of the first layer (for `exponential` and `mixed`)\n",
    "\n",
    "**dz_max**: larger thickness of the grid (for `mixed`)\n",
    "\n",
    "**b**: growth rate (for `exponential` and `mixed`)\n",
    "\n",
    "**psi_interp_model**: string defining the type of the 1D interpolation function used to define the initial condition for water suction \n",
    "> https://docs.scipy.org/doc/scipy/reference/generated/scipy.interpolate.interp1d.html#scipy.interpolate.interp1d \n",
    "\n",
    "**T_interp_model**: string defining the type of the 1D interpolation function used to define the initial condition for temperature\n",
    ">https://docs.scipy.org/doc/scipy/reference/generated/scipy.interpolate.interp1d.html#scipy.interpolate.interp1d \n",
    "\n",
    "**water_ponding_0**: double [m] defining the water suction at soil surface. If it is larger than $0$ means that there is water ponding.\n",
    "\n",
    "**T_water_ponding_0**: double [K] defining the temperature at soil surface. \n",
    "<br />\n",
    "<br />\n",
    "\n",
    "**output_file_name**: name of the output file (.nc) with the local file path\n",
    ">`/data/Grid_NetCDF/name.nc`\n",
    "\n",
    "**output_title**: string containing a title for the output, it is saved within the file\n",
    "\n",
    "**output_summary**: string containing a description for the output, it is saved within the file (global metadata)\n",
    "\n",
    "**output_date**: string containing the date of file creation, optionally\n",
    "\n",
    "**output_institution**: string containing the name of whom created the file, optionally\n",
    "\n"
   ]
  },
  {
   "cell_type": "code",
   "execution_count": 9,
   "metadata": {
    "tags": []
   },
   "outputs": [],
   "source": [
    "\n",
    "grid_input_file_name = project_path + \"/data/Grid_input/grid_Richards_coupled.csv\"\n",
    "\n",
    "ic_input_file_name = project_path + \"/data/Grid_input/_ic_richards.csv\"\n",
    "\n",
    "parameter_input_file_name = project_path + \"/data/Grid_input/Richards_VG.csv\"\n",
    "\n",
    "dictionary_input_file_name = project_path + \"/data/Grid_input/dictionary.csv\"\n",
    "\n",
    "grid_type = 'classical'\n",
    "\n",
    "dz_min = 0.005\n",
    "\n",
    "dz_max = 0.1\n",
    "\n",
    "b = 0.1\n",
    "\n",
    "psi_interp_model = \"linear\"\n",
    "\n",
    "T_interp_model = \"linear\"\n",
    "\n",
    "water_ponding_0 = -0.5\n",
    "\n",
    "T_water_ponding_0 = 273.15\n",
    "\n",
    "\n",
    "\n",
    "\n",
    "output_file_name =  project_path + \"/data/Grid_NetCDF/Grid_Richards.nc\"\n",
    "\n",
    "output_title = '''Computational grid to solve the Richards' equation with the surface boundary condition defined coupling with \n",
    "                    the shallow water.\n",
    "                  '''\n",
    "output_summary = '''\n",
    "\n",
    "Type,eta,K,equationStateID,parameterID\n",
    "L,0,50,1,1\n",
    "L,-1,50,1,2\n",
    "L,-2,50,1,3\n",
    "L,-3,nan,nan,nan\n",
    "\n",
    "eta,Psi0,T0\n",
    "-0.0,-3.0,273.15\n",
    "-3.0,0.0,273.15\n",
    "\n",
    "water_ponding_0 = -3.0\n",
    "\n",
    "T_water_ponding_0 = 273.15\n",
    "\n",
    "'''\n",
    "\n",
    "output_date = ''\n",
    "\n",
    "output_institution = 'GEOframe'\n",
    "\n"
   ]
  },
  {
   "cell_type": "markdown",
   "metadata": {},
   "source": [
    "## Run"
   ]
  },
  {
   "cell_type": "code",
   "execution_count": 10,
   "metadata": {},
   "outputs": [
    {
     "name": "stdout",
     "output_type": "stream",
     "text": [
      "Grid\n",
      "  Type  eta      K  equationStateID  parameterID\n",
      "0    L    0  150.0              1.0          1.0\n",
      "1    L   -1   50.0              1.0          2.0\n",
      "2    L   -2   10.0              1.0          3.0\n",
      "3    L   -3    NaN              NaN          NaN\n",
      "\n",
      "IC\n",
      "   eta  Psi0      T0\n",
      "0 -0.0  -3.0  273.15\n",
      "1 -3.0   0.0  273.15\n",
      "\n",
      "Parameter\n",
      "    thetaS  thetaR     n  alpha  alphaSpecificStorage  betaSpecificStorage  \\\n",
      "0     0.43   0.045  2.68   14.5                   0.0                  0.0   \n",
      "1     0.41   0.057  2.28   12.4                   0.0                  0.0   \n",
      "2     0.41   0.065  1.89    7.5                   0.0                  0.0   \n",
      "3     0.45   0.067  1.41    2.0                   0.0                  0.0   \n",
      "4     0.43   0.078  1.56    3.6                   0.0                  0.0   \n",
      "5     0.39   0.100  1.48    5.9                   0.0                  0.0   \n",
      "6     0.43   0.089  1.23    1.0                   0.0                  0.0   \n",
      "7     0.41   0.095  1.31    1.9                   0.0                  0.0   \n",
      "8     0.38   0.100  1.23    2.7                   0.0                  0.0   \n",
      "9     0.36   0.070  1.09    0.5                   0.0                  0.0   \n",
      "10    0.38   0.068  1.09    0.8                   0.0                  0.0   \n",
      "\n",
      "              Ks  \n",
      "0   8.250000e-05  \n",
      "1   4.052800e-05  \n",
      "2   1.227800e-05  \n",
      "3   1.250000e-06  \n",
      "4   2.888900e-06  \n",
      "5   3.638800e-06  \n",
      "6   1.944700e-07  \n",
      "7   7.222400e-07  \n",
      "8   3.333300e-07  \n",
      "9   5.555600e-08  \n",
      "10  5.555600e-07  \n",
      "\n",
      "\n",
      "\n",
      "***SUCCESS writing!  /Users/concettadamato/Eclipse_workspace_12/WHETGEO-1D/data/Grid_NetCDF/Grid_Richards.nc\n"
     ]
    }
   ],
   "source": [
    "data_grid = pd.read_csv(grid_input_file_name)\n",
    "print('Grid')\n",
    "print(data_grid)\n",
    "print()\n",
    "\n",
    "data_ic = pd.read_csv(ic_input_file_name)\n",
    "print('IC')\n",
    "print(data_ic)\n",
    "print()\n",
    "\n",
    "data_parameter = pd.read_csv(parameter_input_file_name, comment='#')\n",
    "print('Parameter')\n",
    "print(data_parameter)\n",
    "print()\n",
    "\n",
    "data_dictionary = pd.read_csv(dictionary_input_file_name)\n",
    "\n",
    "[KMAX, eta, eta_dual, space_delta, z, z_dual, control_volume] = grid1D(data_grid, dz_min, b, dz_max, grid_type, shallow_water=True)\n",
    "\n",
    "[psi_0, T_0] = set_initial_condition(data_ic, eta, psi_interp_model, T_interp_model, water_ponding_0=water_ponding_0, T_water_ponding_0=T_water_ponding_0, shallow_water=True)\n",
    "\n",
    "control_volume_index = calibration_point_index(data_grid, eta)\n",
    "\n",
    "[equation_state_ID, parameter_ID, theta_s, theta_r, par_1, par_2, par_3, par_4,\n",
    "par_5, alpha_ss, beta_ss, ks] = set_parameters_richards(data_grid, data_parameter, data_dictionary, KMAX, eta)\n",
    "\n",
    "write_grid_netCDF_richards(eta, eta_dual, z, z_dual, space_delta, control_volume, control_volume_index, psi_0, T_0, equation_state_ID, parameter_ID, KMAX,\n",
    "                  theta_s, theta_r, par_1, par_2, par_3, par_4, par_5, alpha_ss, beta_ss, ks,\n",
    "                  output_file_name, output_title, output_institution, output_summary, output_date, grid_input_file_name, parameter_input_file_name)"
   ]
  },
  {
   "cell_type": "markdown",
   "metadata": {},
   "source": [
    "## Show grid"
   ]
  },
  {
   "cell_type": "code",
   "execution_count": 11,
   "metadata": {},
   "outputs": [
    {
     "data": {
      "image/png": "[encoded data removed]",
      "text/plain": [
       "<Figure size 720x709.091 with 1 Axes>"
      ]
     },
     "metadata": {
      "needs_background": "light"
     },
     "output_type": "display_data"
    }
   ],
   "source": [
    "showMesh(data_grid)"
   ]
  },
  {
   "cell_type": "code",
   "execution_count": null,
   "metadata": {},
   "outputs": [],
   "source": []
  }
 ],
 "metadata": {
  "kernelspec": {
   "display_name": "Python 3 (ipykernel)",
   "language": "python",
   "name": "python3"
  },
  "language_info": {
   "codemirror_mode": {
    "name": "ipython",
    "version": 3
   },
   "file_extension": ".py",
   "mimetype": "text/x-python",
   "name": "python",
   "nbconvert_exporter": "python",
   "pygments_lexer": "ipython3",
   "version": "3.7.12"
  }
 },
 "nbformat": 4,
 "nbformat_minor": 4
}
